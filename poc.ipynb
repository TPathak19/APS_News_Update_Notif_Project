{
 "cells": [
  {
   "cell_type": "markdown",
   "metadata": {},
   "source": [
    "## Importing the required libraries"
   ]
  },
  {
   "cell_type": "code",
   "execution_count": 14,
   "metadata": {
    "execution": {
     "iopub.execute_input": "2024-10-11T16:17:52.552510Z",
     "iopub.status.busy": "2024-10-11T16:17:52.552510Z",
     "iopub.status.idle": "2024-10-11T16:17:56.902789Z",
     "shell.execute_reply": "2024-10-11T16:17:56.902277Z"
    }
   },
   "outputs": [],
   "source": [
    "import requests\n",
    "from bs4 import BeautifulSoup\n",
    "import pandas as pd\n",
    "import yagmail\n",
    "import os"
   ]
  },
  {
   "cell_type": "markdown",
   "metadata": {},
   "source": [
    "## Scraping and Email Notifier"
   ]
  },
  {
   "cell_type": "code",
   "execution_count": 15,
   "metadata": {
    "execution": {
     "iopub.execute_input": "2024-10-11T16:17:56.907051Z",
     "iopub.status.busy": "2024-10-11T16:17:56.905685Z",
     "iopub.status.idle": "2024-10-11T16:17:56.926491Z",
     "shell.execute_reply": "2024-10-11T16:17:56.926491Z"
    }
   },
   "outputs": [],
   "source": [
    "# Function to fetch webpage content\n",
    "def fetch_webpage_content(url):\n",
    "    \"\"\"Fetches the content of the specified URL.\"\"\"\n",
    "    response = requests.get(url)\n",
    "    return BeautifulSoup(response.content, 'lxml')"
   ]
  },
  {
   "cell_type": "code",
   "execution_count": 16,
   "metadata": {
    "execution": {
     "iopub.execute_input": "2024-10-11T16:17:57.027984Z",
     "iopub.status.busy": "2024-10-11T16:17:57.019985Z",
     "iopub.status.idle": "2024-10-11T16:17:57.036450Z",
     "shell.execute_reply": "2024-10-11T16:17:57.035287Z"
    }
   },
   "outputs": [],
   "source": [
    "# Function to extract text from strong and span tags containing the keyword 'UPDATE'\n",
    "def extract_updates(soup):\n",
    "    \"\"\"Extracts text from strong and span tags that contain the keyword 'UPDATE'.\"\"\"\n",
    "    tags = soup.find_all(['strong', 'span'])  # Find all strong and span tags\n",
    "    updates = [tag.get_text(strip=True) for tag in tags if 'UPDATE' in tag.get_text(strip=True)]\n",
    "    return updates"
   ]
  },
  {
   "cell_type": "code",
   "execution_count": 17,
   "metadata": {},
   "outputs": [],
   "source": [
    "# Function to compare new data with old data\n",
    "def compare_data(new_data, old_data_file):\n",
    "    \"\"\"Compares new scraped data with old data from a CSV file and returns unmatched rows.\"\"\"\n",
    "    old_df = pd.read_csv(old_data_file)\n",
    "    new_df = pd.DataFrame(new_data, columns=['Text'])\n",
    "\n",
    "    # Combine new and old data and drop duplicates to find new unmatched data\n",
    "    combined_df = pd.concat([old_df, new_df])\n",
    "    new_unmatched_df = combined_df.drop_duplicates(keep=False)\n",
    "\n",
    "    return new_unmatched_df, new_df"
   ]
  },
  {
   "cell_type": "code",
   "execution_count": 18,
   "metadata": {
    "execution": {
     "iopub.execute_input": "2024-10-11T16:17:57.039140Z",
     "iopub.status.busy": "2024-10-11T16:17:57.039140Z",
     "iopub.status.idle": "2024-10-11T16:17:57.070237Z",
     "shell.execute_reply": "2024-10-11T16:17:57.068149Z"
    }
   },
   "outputs": [],
   "source": [
    "# Function to send email notifications\n",
    "def send_email(subject, body, recipients):\n",
    "    \"\"\"Sends an email using yagmail.\"\"\"\n",
    "    email_user = os.getenv('EMAIL_USER')\n",
    "    email_password = os.getenv('EMAIL_PASSWORD')\n",
    "\n",
    "    # Initialize yagmail and send email\n",
    "    yag = yagmail.SMTP(email_user, email_password)\n",
    "    yag.send(to=recipients, subject=subject, contents=body)"
   ]
  },
  {
   "cell_type": "code",
   "execution_count": 19,
   "metadata": {
    "execution": {
     "iopub.execute_input": "2024-10-11T16:17:57.073000Z",
     "iopub.status.busy": "2024-10-11T16:17:57.073000Z",
     "iopub.status.idle": "2024-10-11T16:17:57.087584Z",
     "shell.execute_reply": "2024-10-11T16:17:57.087584Z"
    }
   },
   "outputs": [],
   "source": [
    "# Function to construct and send an email with the updates\n",
    "def notify_updates(new_unmatched_df):\n",
    "    \"\"\"Constructs the email body and sends notifications for new updates.\"\"\"\n",
    "    if not new_unmatched_df.empty:\n",
    "        df_string = new_unmatched_df.to_string(index=False)\n",
    "        email_body = (\n",
    "            \"This is an automated mail. Here are the results for the scheduled trigger:\\n\\n\"\n",
    "            + df_string  # Include DataFrame content\n",
    "            + \"\\n\\nYou can review further details at the following URL:\\n\"\n",
    "            + \"https://aps-india.de/news/\"\n",
    "        )\n",
    "\n",
    "        # Get recipient emails from environment variables\n",
    "        recipient_emails = os.getenv('EMAIL_RECIPIENTS').split(',')\n",
    "\n",
    "        # Send email\n",
    "        send_email('APS News Updates', email_body, recipient_emails)\n",
    "    else:\n",
    "        print(\"No new updates to send via email.\")"
   ]
  },
  {
   "cell_type": "code",
   "execution_count": 20,
   "metadata": {
    "execution": {
     "iopub.execute_input": "2024-10-11T16:17:57.090563Z",
     "iopub.status.busy": "2024-10-11T16:17:57.090563Z",
     "iopub.status.idle": "2024-10-11T16:17:57.102184Z",
     "shell.execute_reply": "2024-10-11T16:17:57.102184Z"
    }
   },
   "outputs": [
    {
     "name": "stdout",
     "output_type": "stream",
     "text": [
      "No new updates to send via email.\n"
     ]
    }
   ],
   "source": [
    "# Main process to scrape, compare, and notify\n",
    "def main():\n",
    "    \"\"\"Main function to orchestrate the APS News Updates Notifier.\"\"\"\n",
    "    url = 'https://aps-india.de/news/'  # URL to scrape\n",
    "\n",
    "    # Fetch webpage content\n",
    "    soup = fetch_webpage_content(url)\n",
    "\n",
    "    # Extract updates containing 'UPDATE'\n",
    "    new_data = extract_updates(soup)\n",
    "\n",
    "    # Compare new data with the previously scraped data in CSV\n",
    "    old_data_file = 'extracted_updates.csv'\n",
    "    new_unmatched_df, new_df = compare_data(new_data, old_data_file)\n",
    "\n",
    "    # Save the new scraped data for future comparisons\n",
    "    new_df.to_csv('extracted_updates.csv', index=False)\n",
    "\n",
    "    # Send email notification if there are new updates\n",
    "    notify_updates(new_unmatched_df)\n",
    "\n",
    "if __name__ == \"__main__\":\n",
    "    main()"
   ]
  },
  {
   "cell_type": "code",
   "execution_count": null,
   "metadata": {},
   "outputs": [],
   "source": []
  }
 ],
 "metadata": {
  "kernelspec": {
   "display_name": "base",
   "language": "python",
   "name": "python3"
  },
  "language_info": {
   "codemirror_mode": {
    "name": "ipython",
    "version": 3
   },
   "file_extension": ".py",
   "mimetype": "text/x-python",
   "name": "python",
   "nbconvert_exporter": "python",
   "pygments_lexer": "ipython3",
   "version": "3.11.5"
  }
 },
 "nbformat": 4,
 "nbformat_minor": 2
}
