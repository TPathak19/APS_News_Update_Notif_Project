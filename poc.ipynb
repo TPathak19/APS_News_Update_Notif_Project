{
 "cells": [
  {
   "cell_type": "markdown",
   "metadata": {},
   "source": [
    "## Importing and Scraping the Content"
   ]
  },
  {
   "cell_type": "code",
   "execution_count": 34,
   "metadata": {},
   "outputs": [],
   "source": [
    "import requests\n",
    "from bs4 import BeautifulSoup\n",
    "import pandas as pd\n",
    "\n",
    "# Fetch the webpage content\n",
    "url = 'https://aps-india.de/news/'  \n",
    "response = requests.get(url)\n",
    "soup = BeautifulSoup(response.content, 'lxml')\n",
    "\n",
    "# Find all strong and span tags\n",
    "tags = soup.find_all(['strong', 'span'])  # Fetch both strong and span tags\n",
    "\n",
    "# Extract text from the tags that contain the word 'Update'\n",
    "new_data = []\n",
    "for tag in tags:\n",
    "    text = tag.get_text(strip=True)  # Extract and clean the text\n",
    "    if 'UPDATE' in text:  # Check if 'Update' is in the text\n",
    "        new_data.append(text)\n",
    "\n",
    "\n",
    "# Convert the new scraped data to a DataFrame\n",
    "new_df = pd.DataFrame(new_data, columns=['Text'])\n",
    "\n",
    "#new_df.to_csv('extracted_updates.csv', index = False)"
   ]
  },
  {
   "cell_type": "code",
   "execution_count": 35,
   "metadata": {},
   "outputs": [
    {
     "data": {
      "text/html": [
       "<div>\n",
       "<style scoped>\n",
       "    .dataframe tbody tr th:only-of-type {\n",
       "        vertical-align: middle;\n",
       "    }\n",
       "\n",
       "    .dataframe tbody tr th {\n",
       "        vertical-align: top;\n",
       "    }\n",
       "\n",
       "    .dataframe thead th {\n",
       "        text-align: right;\n",
       "    }\n",
       "</style>\n",
       "<table border=\"1\" class=\"dataframe\">\n",
       "  <thead>\n",
       "    <tr style=\"text-align: right;\">\n",
       "      <th></th>\n",
       "      <th>Text</th>\n",
       "    </tr>\n",
       "  </thead>\n",
       "  <tbody>\n",
       "    <tr>\n",
       "      <th>0</th>\n",
       "      <td>UPDATE 10 JULY 2024:We would like to inform yo...</td>\n",
       "    </tr>\n",
       "    <tr>\n",
       "      <th>1</th>\n",
       "      <td>UPDATE 10 JULY 2024:</td>\n",
       "    </tr>\n",
       "    <tr>\n",
       "      <th>2</th>\n",
       "      <td>UPDATE 03 JUNE 2024:</td>\n",
       "    </tr>\n",
       "    <tr>\n",
       "      <th>3</th>\n",
       "      <td>UPDATE 14 MAY 2024:</td>\n",
       "    </tr>\n",
       "    <tr>\n",
       "      <th>4</th>\n",
       "      <td>UPDATE 31 OCT 2023:</td>\n",
       "    </tr>\n",
       "    <tr>\n",
       "      <th>5</th>\n",
       "      <td>UPDATE 21 JUN 2023:</td>\n",
       "    </tr>\n",
       "    <tr>\n",
       "      <th>6</th>\n",
       "      <td>UPDATE 26 APR 2023:</td>\n",
       "    </tr>\n",
       "    <tr>\n",
       "      <th>7</th>\n",
       "      <td>UPDATE 21 APR 2023:</td>\n",
       "    </tr>\n",
       "    <tr>\n",
       "      <th>8</th>\n",
       "      <td>UPDATE 07 MAR 2023:</td>\n",
       "    </tr>\n",
       "    <tr>\n",
       "      <th>9</th>\n",
       "      <td>UPDATE 08 FEB 2023:</td>\n",
       "    </tr>\n",
       "    <tr>\n",
       "      <th>10</th>\n",
       "      <td>UPDATE 20 DEC 2022:</td>\n",
       "    </tr>\n",
       "    <tr>\n",
       "      <th>11</th>\n",
       "      <td>UPDATE 10 DEC 2022:</td>\n",
       "    </tr>\n",
       "    <tr>\n",
       "      <th>12</th>\n",
       "      <td>UPDATE 09 DEC 2022:</td>\n",
       "    </tr>\n",
       "    <tr>\n",
       "      <th>13</th>\n",
       "      <td>UPDATE 04 DEC 2022:</td>\n",
       "    </tr>\n",
       "    <tr>\n",
       "      <th>14</th>\n",
       "      <td>UPDATE 04 DEC 2022:</td>\n",
       "    </tr>\n",
       "    <tr>\n",
       "      <th>15</th>\n",
       "      <td>UPDATE 11 NOV 2022:</td>\n",
       "    </tr>\n",
       "    <tr>\n",
       "      <th>16</th>\n",
       "      <td>UPDATE 11 NOV 2022:</td>\n",
       "    </tr>\n",
       "    <tr>\n",
       "      <th>17</th>\n",
       "      <td>UPDATE 04 NOV 2022:</td>\n",
       "    </tr>\n",
       "    <tr>\n",
       "      <th>18</th>\n",
       "      <td>UPDATE 10 OCT 2022:</td>\n",
       "    </tr>\n",
       "    <tr>\n",
       "      <th>19</th>\n",
       "      <td>UPDATE 06 OCT 2022:</td>\n",
       "    </tr>\n",
       "    <tr>\n",
       "      <th>20</th>\n",
       "      <td>UPDATE</td>\n",
       "    </tr>\n",
       "  </tbody>\n",
       "</table>\n",
       "</div>"
      ],
      "text/plain": [
       "                                                 Text\n",
       "0   UPDATE 10 JULY 2024:We would like to inform yo...\n",
       "1                                UPDATE 10 JULY 2024:\n",
       "2                                UPDATE 03 JUNE 2024:\n",
       "3                                 UPDATE 14 MAY 2024:\n",
       "4                                 UPDATE 31 OCT 2023:\n",
       "5                                 UPDATE 21 JUN 2023:\n",
       "6                                 UPDATE 26 APR 2023:\n",
       "7                                 UPDATE 21 APR 2023:\n",
       "8                                 UPDATE 07 MAR 2023:\n",
       "9                                 UPDATE 08 FEB 2023:\n",
       "10                                UPDATE 20 DEC 2022:\n",
       "11                                UPDATE 10 DEC 2022:\n",
       "12                                UPDATE 09 DEC 2022:\n",
       "13                                UPDATE 04 DEC 2022:\n",
       "14                                UPDATE 04 DEC 2022:\n",
       "15                                UPDATE 11 NOV 2022:\n",
       "16                                UPDATE 11 NOV 2022:\n",
       "17                                UPDATE 04 NOV 2022:\n",
       "18                                UPDATE 10 OCT 2022:\n",
       "19                                UPDATE 06 OCT 2022:\n",
       "20                                             UPDATE"
      ]
     },
     "execution_count": 35,
     "metadata": {},
     "output_type": "execute_result"
    }
   ],
   "source": [
    "new_df"
   ]
  },
  {
   "cell_type": "code",
   "execution_count": 43,
   "metadata": {},
   "outputs": [
    {
     "data": {
      "text/plain": [
       "'UPDATE'"
      ]
     },
     "execution_count": 43,
     "metadata": {},
     "output_type": "execute_result"
    }
   ],
   "source": [
    "new_df.Text[20]"
   ]
  },
  {
   "cell_type": "markdown",
   "metadata": {},
   "source": [
    "## Comparing the previous Output for Update Process"
   ]
  },
  {
   "cell_type": "code",
   "execution_count": 32,
   "metadata": {},
   "outputs": [],
   "source": [
    "# Load the old CSV file with the previously scraped data\n",
    "old_df = pd.read_csv('extracted_updates.csv')"
   ]
  },
  {
   "cell_type": "code",
   "execution_count": 33,
   "metadata": {},
   "outputs": [
    {
     "name": "stdout",
     "output_type": "stream",
     "text": [
      "No new updates found.\n"
     ]
    }
   ],
   "source": [
    "# Concatenate the old and new data\n",
    "combined_df = pd.concat([old_df, new_df])\n",
    "\n",
    "# Keep only the new/unmatched rows by dropping duplicates\n",
    "# This assumes the 'Text' column should be unique, i.e., if it's repeated, it's not new\n",
    "new_unmatched_df = combined_df.drop_duplicates(keep=False)\n",
    "\n",
    "# Check if there are any new/unmatched rows\n",
    "if not new_unmatched_df.empty:\n",
    "    print(\"There are new updates or unmatched rows!\")\n",
    "else:\n",
    "    print(\"No new updates found.\")"
   ]
  },
  {
   "cell_type": "code",
   "execution_count": 27,
   "metadata": {},
   "outputs": [],
   "source": [
    "# Save the new/unmatched rows to a separate CSV if needed\n",
    "new_unmatched_df.to_csv('new_updates.csv', index=False)"
   ]
  },
  {
   "cell_type": "code",
   "execution_count": null,
   "metadata": {},
   "outputs": [],
   "source": [
    "# H8UKNGCUNQZ1DGZR6E7HQ85R"
   ]
  },
  {
   "cell_type": "code",
   "execution_count": null,
   "metadata": {},
   "outputs": [],
   "source": [
    "import smtplib\n",
    "from email.mime.multipart import MIMEMultipart\n",
    "from email.mime.text import MIMEText\n",
    "\n",
    "def send_email(subject, body, to_email):\n",
    "    # Set up the server\n",
    "    server = smtplib.SMTP('smtp.gmail.com', 587)\n",
    "    server.starttls()\n",
    "\n",
    "    # Login to your email account\n",
    "    server.login('your_email@gmail.com', 'your_password')  # Replace with your credentials\n",
    "\n",
    "    # Create the email\n",
    "    msg = MIMEMultipart()\n",
    "    msg['From'] = 'your_email@gmail.com'\n",
    "    msg['To'] = to_email\n",
    "    msg['Subject'] = subject\n",
    "    msg.attach(MIMEText(body, 'plain'))\n",
    "\n",
    "    # Send the email\n",
    "    server.send_message(msg)\n",
    "    server.quit()\n",
    "\n",
    "# Convert new/unmatched rows to string for the email body\n",
    "if not new_unmatched_df.empty:\n",
    "    email_body = new_unmatched_df.to_string(index=False)\n",
    "    send_email('New Updates Detected', email_body, 'recipient_email@example.com')\n",
    "else:\n",
    "    print(\"No new updates to send via email.\")\n",
    "\n",
    "\n"
   ]
  }
 ],
 "metadata": {
  "kernelspec": {
   "display_name": "base",
   "language": "python",
   "name": "python3"
  },
  "language_info": {
   "codemirror_mode": {
    "name": "ipython",
    "version": 3
   },
   "file_extension": ".py",
   "mimetype": "text/x-python",
   "name": "python",
   "nbconvert_exporter": "python",
   "pygments_lexer": "ipython3",
   "version": "3.11.5"
  }
 },
 "nbformat": 4,
 "nbformat_minor": 2
}
