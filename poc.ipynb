{
 "cells": [
  {
   "cell_type": "markdown",
   "metadata": {},
   "source": [
    "## Importing and Scraping the Content"
   ]
  },
  {
   "cell_type": "code",
   "execution_count": 1,
   "metadata": {
    "execution": {
     "iopub.execute_input": "2024-10-11T16:17:52.552510Z",
     "iopub.status.busy": "2024-10-11T16:17:52.552510Z",
     "iopub.status.idle": "2024-10-11T16:17:56.902789Z",
     "shell.execute_reply": "2024-10-11T16:17:56.902277Z"
    }
   },
   "outputs": [],
   "source": [
    "import requests\n",
    "from bs4 import BeautifulSoup\n",
    "import pandas as pd\n",
    "\n",
    "# Fetch the webpage content\n",
    "url = 'https://aps-india.de/news/'  \n",
    "response = requests.get(url)\n",
    "soup = BeautifulSoup(response.content, 'lxml')\n",
    "\n",
    "# Find all strong and span tags\n",
    "tags = soup.find_all(['strong', 'span'])  # Fetch both strong and span tags\n",
    "\n",
    "# Extract text from the tags that contain the word 'Update'\n",
    "new_data = []\n",
    "for tag in tags:\n",
    "    text = tag.get_text(strip=True)  # Extract and clean the text\n",
    "    if 'UPDATE' in text:  # Check if 'Update' is in the text\n",
    "        new_data.append(text)\n",
    "\n",
    "\n",
    "# Convert the new scraped data to a DataFrame\n",
    "new_df = pd.DataFrame(new_data, columns=['Text'])\n",
    "\n",
    "#new_df = new_df.iloc[1:, :] \n",
    "\n",
    "#new_df.to_csv('extracted_updates.csv', index = False)"
   ]
  },
  {
   "cell_type": "code",
   "execution_count": 2,
   "metadata": {
    "execution": {
     "iopub.execute_input": "2024-10-11T16:17:56.907051Z",
     "iopub.status.busy": "2024-10-11T16:17:56.905685Z",
     "iopub.status.idle": "2024-10-11T16:17:56.926491Z",
     "shell.execute_reply": "2024-10-11T16:17:56.926491Z"
    }
   },
   "outputs": [
    {
     "data": {
      "text/html": [
       "<div>\n",
       "<style scoped>\n",
       "    .dataframe tbody tr th:only-of-type {\n",
       "        vertical-align: middle;\n",
       "    }\n",
       "\n",
       "    .dataframe tbody tr th {\n",
       "        vertical-align: top;\n",
       "    }\n",
       "\n",
       "    .dataframe thead th {\n",
       "        text-align: right;\n",
       "    }\n",
       "</style>\n",
       "<table border=\"1\" class=\"dataframe\">\n",
       "  <thead>\n",
       "    <tr style=\"text-align: right;\">\n",
       "      <th></th>\n",
       "      <th>Text</th>\n",
       "    </tr>\n",
       "  </thead>\n",
       "  <tbody>\n",
       "    <tr>\n",
       "      <th>0</th>\n",
       "      <td>UPDATE 10 JULY 2024:We would like to inform yo...</td>\n",
       "    </tr>\n",
       "    <tr>\n",
       "      <th>1</th>\n",
       "      <td>UPDATE 10 JULY 2024:</td>\n",
       "    </tr>\n",
       "    <tr>\n",
       "      <th>2</th>\n",
       "      <td>UPDATE 03 JUNE 2024:</td>\n",
       "    </tr>\n",
       "    <tr>\n",
       "      <th>3</th>\n",
       "      <td>UPDATE 14 MAY 2024:</td>\n",
       "    </tr>\n",
       "    <tr>\n",
       "      <th>4</th>\n",
       "      <td>UPDATE 31 OCT 2023:</td>\n",
       "    </tr>\n",
       "    <tr>\n",
       "      <th>5</th>\n",
       "      <td>UPDATE 21 JUN 2023:</td>\n",
       "    </tr>\n",
       "    <tr>\n",
       "      <th>6</th>\n",
       "      <td>UPDATE 26 APR 2023:</td>\n",
       "    </tr>\n",
       "    <tr>\n",
       "      <th>7</th>\n",
       "      <td>UPDATE 21 APR 2023:</td>\n",
       "    </tr>\n",
       "    <tr>\n",
       "      <th>8</th>\n",
       "      <td>UPDATE 07 MAR 2023:</td>\n",
       "    </tr>\n",
       "    <tr>\n",
       "      <th>9</th>\n",
       "      <td>UPDATE 08 FEB 2023:</td>\n",
       "    </tr>\n",
       "    <tr>\n",
       "      <th>10</th>\n",
       "      <td>UPDATE 20 DEC 2022:</td>\n",
       "    </tr>\n",
       "    <tr>\n",
       "      <th>11</th>\n",
       "      <td>UPDATE 10 DEC 2022:</td>\n",
       "    </tr>\n",
       "    <tr>\n",
       "      <th>12</th>\n",
       "      <td>UPDATE 09 DEC 2022:</td>\n",
       "    </tr>\n",
       "    <tr>\n",
       "      <th>13</th>\n",
       "      <td>UPDATE 04 DEC 2022:</td>\n",
       "    </tr>\n",
       "    <tr>\n",
       "      <th>14</th>\n",
       "      <td>UPDATE 04 DEC 2022:</td>\n",
       "    </tr>\n",
       "    <tr>\n",
       "      <th>15</th>\n",
       "      <td>UPDATE 11 NOV 2022:</td>\n",
       "    </tr>\n",
       "    <tr>\n",
       "      <th>16</th>\n",
       "      <td>UPDATE 11 NOV 2022:</td>\n",
       "    </tr>\n",
       "    <tr>\n",
       "      <th>17</th>\n",
       "      <td>UPDATE 04 NOV 2022:</td>\n",
       "    </tr>\n",
       "    <tr>\n",
       "      <th>18</th>\n",
       "      <td>UPDATE 10 OCT 2022:</td>\n",
       "    </tr>\n",
       "    <tr>\n",
       "      <th>19</th>\n",
       "      <td>UPDATE 06 OCT 2022:</td>\n",
       "    </tr>\n",
       "    <tr>\n",
       "      <th>20</th>\n",
       "      <td>UPDATE</td>\n",
       "    </tr>\n",
       "  </tbody>\n",
       "</table>\n",
       "</div>"
      ],
      "text/plain": [
       "                                                 Text\n",
       "0   UPDATE 10 JULY 2024:We would like to inform yo...\n",
       "1                                UPDATE 10 JULY 2024:\n",
       "2                                UPDATE 03 JUNE 2024:\n",
       "3                                 UPDATE 14 MAY 2024:\n",
       "4                                 UPDATE 31 OCT 2023:\n",
       "5                                 UPDATE 21 JUN 2023:\n",
       "6                                 UPDATE 26 APR 2023:\n",
       "7                                 UPDATE 21 APR 2023:\n",
       "8                                 UPDATE 07 MAR 2023:\n",
       "9                                 UPDATE 08 FEB 2023:\n",
       "10                                UPDATE 20 DEC 2022:\n",
       "11                                UPDATE 10 DEC 2022:\n",
       "12                                UPDATE 09 DEC 2022:\n",
       "13                                UPDATE 04 DEC 2022:\n",
       "14                                UPDATE 04 DEC 2022:\n",
       "15                                UPDATE 11 NOV 2022:\n",
       "16                                UPDATE 11 NOV 2022:\n",
       "17                                UPDATE 04 NOV 2022:\n",
       "18                                UPDATE 10 OCT 2022:\n",
       "19                                UPDATE 06 OCT 2022:\n",
       "20                                             UPDATE"
      ]
     },
     "execution_count": 2,
     "metadata": {},
     "output_type": "execute_result"
    }
   ],
   "source": [
    "new_df"
   ]
  },
  {
   "cell_type": "code",
   "execution_count": 3,
   "metadata": {
    "execution": {
     "iopub.execute_input": "2024-10-11T16:17:57.027984Z",
     "iopub.status.busy": "2024-10-11T16:17:57.019985Z",
     "iopub.status.idle": "2024-10-11T16:17:57.036450Z",
     "shell.execute_reply": "2024-10-11T16:17:57.035287Z"
    }
   },
   "outputs": [
    {
     "data": {
      "text/plain": [
       "'UPDATE'"
      ]
     },
     "execution_count": 3,
     "metadata": {},
     "output_type": "execute_result"
    }
   ],
   "source": [
    "new_df.Text[20]"
   ]
  },
  {
   "cell_type": "markdown",
   "metadata": {},
   "source": [
    "## Comparing the previous Output for Update Process"
   ]
  },
  {
   "cell_type": "code",
   "execution_count": 4,
   "metadata": {
    "execution": {
     "iopub.execute_input": "2024-10-11T16:17:57.039140Z",
     "iopub.status.busy": "2024-10-11T16:17:57.039140Z",
     "iopub.status.idle": "2024-10-11T16:17:57.070237Z",
     "shell.execute_reply": "2024-10-11T16:17:57.068149Z"
    }
   },
   "outputs": [],
   "source": [
    "# Load the old CSV file with the previously scraped data\n",
    "old_df = pd.read_csv('extracted_updates.csv')"
   ]
  },
  {
   "cell_type": "code",
   "execution_count": 5,
   "metadata": {
    "execution": {
     "iopub.execute_input": "2024-10-11T16:17:57.073000Z",
     "iopub.status.busy": "2024-10-11T16:17:57.073000Z",
     "iopub.status.idle": "2024-10-11T16:17:57.087584Z",
     "shell.execute_reply": "2024-10-11T16:17:57.087584Z"
    }
   },
   "outputs": [
    {
     "name": "stdout",
     "output_type": "stream",
     "text": [
      "There are new updates or unmatched rows!\n"
     ]
    }
   ],
   "source": [
    "# Concatenate the old and new data\n",
    "combined_df = pd.concat([old_df, new_df])\n",
    "\n",
    "# Keep only the new/unmatched rows by dropping duplicates\n",
    "# This assumes the 'Text' column should be unique, i.e., if it's repeated, it's not new\n",
    "new_unmatched_df = combined_df.drop_duplicates(keep=False)\n",
    "\n",
    "# Check if there are any new/unmatched rows\n",
    "if not new_unmatched_df.empty:\n",
    "    print(\"There are new updates or unmatched rows!\")\n",
    "else:\n",
    "    print(\"No new updates found.\")"
   ]
  },
  {
   "cell_type": "code",
   "execution_count": 6,
   "metadata": {
    "execution": {
     "iopub.execute_input": "2024-10-11T16:17:57.090563Z",
     "iopub.status.busy": "2024-10-11T16:17:57.090563Z",
     "iopub.status.idle": "2024-10-11T16:17:57.102184Z",
     "shell.execute_reply": "2024-10-11T16:17:57.102184Z"
    }
   },
   "outputs": [],
   "source": [
    "# Save the new/unmatched rows to a separate CSV if needed\n",
    "new_unmatched_df.to_csv('new_updates.csv', index=False)"
   ]
  },
  {
   "cell_type": "code",
   "execution_count": 8,
   "metadata": {
    "execution": {
     "iopub.execute_input": "2024-10-11T16:17:57.112814Z",
     "iopub.status.busy": "2024-10-11T16:17:57.112814Z",
     "iopub.status.idle": "2024-10-11T16:17:57.166805Z",
     "shell.execute_reply": "2024-10-11T16:17:57.166298Z"
    }
   },
   "outputs": [],
   "source": [
    "import yagmail\n",
    "import os\n",
    "\n",
    "def send_email(subject, body, to_email):\n",
    "    # Get email and password from environment variables\n",
    "    email_user = os.getenv('EMAIL_USER')\n",
    "    email_password = os.getenv('EMAIL_PASSWORD')\n",
    "\n",
    "    # Initialize yagmail\n",
    "    yag = yagmail.SMTP(email_user, email_password)\n",
    "    \n",
    "    # Send the email\n",
    "    yag.send(to=to_email, subject=subject, contents=body)\n",
    "\n",
    "# Convert new/unmatched rows to string for the email body\n",
    "if not new_unmatched_df.empty:\n",
    "    df_string = new_unmatched_df.to_string(index=False)\n",
    "\n",
    "    email_body = (\n",
    "        \"This is an automated mail. Here are the results for the scheduled trigger:\\n\\n\"\n",
    "        + df_string  # Include DataFrame content\n",
    "        + \"\\n\\nYou can review further details at the following URL:\\n\"\n",
    "        + \"https://aps-india.de/news/\"  # Add your URL\n",
    "    )\n",
    "\n",
    "    recipient_emails = os.getenv('EMAIL_RECIPIENTS').split(',')\n",
    "\n",
    "    send_email('APS News Updates', email_body, recipient_emails)\n",
    "else:\n",
    "    print(\"No new updates to send via email.\")\n",
    "\n",
    "\n"
   ]
  },
  {
   "cell_type": "code",
   "execution_count": 9,
   "metadata": {
    "execution": {
     "iopub.execute_input": "2024-10-11T16:17:57.167903Z",
     "iopub.status.busy": "2024-10-11T16:17:57.167903Z",
     "iopub.status.idle": "2024-10-11T16:17:57.175785Z",
     "shell.execute_reply": "2024-10-11T16:17:57.175785Z"
    }
   },
   "outputs": [],
   "source": [
    "new_df.to_csv('extracted_updates.csv', index = False)"
   ]
  },
  {
   "cell_type": "code",
   "execution_count": null,
   "metadata": {},
   "outputs": [],
   "source": []
  }
 ],
 "metadata": {
  "kernelspec": {
   "display_name": "base",
   "language": "python",
   "name": "python3"
  },
  "language_info": {
   "codemirror_mode": {
    "name": "ipython",
    "version": 3
   },
   "file_extension": ".py",
   "mimetype": "text/x-python",
   "name": "python",
   "nbconvert_exporter": "python",
   "pygments_lexer": "ipython3",
   "version": "3.11.5"
  }
 },
 "nbformat": 4,
 "nbformat_minor": 2
}
